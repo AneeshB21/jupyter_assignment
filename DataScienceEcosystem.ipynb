{
 "cells": [
  {
   "cell_type": "markdown",
   "id": "975c5a4e-af4f-4aaa-9c87-d4f18f9d3d26",
   "metadata": {},
   "source": [
    "## Data Science Tools and Ecosystem"
   ]
  },
  {
   "cell_type": "markdown",
   "id": "2afa9143-5f0f-40da-a87e-4a09cfdc5fd0",
   "metadata": {},
   "source": [
    "In this notebook, Data Science tools and Ecosystem are summarized"
   ]
  },
  {
   "cell_type": "markdown",
   "id": "ed571a92-d4ee-46b7-9a29-bbcec0e86379",
   "metadata": {},
   "source": [
    "Some of the popular languages that Data Scientist use are: \n",
    "1. Python\n",
    "2. R\n",
    "3. Java"
   ]
  },
  {
   "cell_type": "markdown",
   "id": "42eb836f-a4ad-44b8-8adc-0a8fc2a7e536",
   "metadata": {},
   "source": [
    "Some of the commonly used libraries used by Data Scientists include:\n",
    "1. Pandas\n",
    "2. Matplotlib\n",
    "3. Scikit"
   ]
  },
  {
   "cell_type": "markdown",
   "id": "93245a6a-c0d3-46e2-addb-08aa21779090",
   "metadata": {},
   "source": [
    "|Data Science Tools|\n",
    "|------------------|\n",
    "|Jupyter Notebooks|\n",
    "|RStudio|\n",
    "|Apache Spark|\n"
   ]
  },
  {
   "cell_type": "markdown",
   "id": "80e62af2-6146-4344-9fb1-f9b738a26d7e",
   "metadata": {},
   "source": [
    "#### Below are a few examples of evaluating arithmetic experssions used in Python "
   ]
  },
  {
   "cell_type": "code",
   "execution_count": 4,
   "id": "1e3356b0-168a-4bae-a6a1-b619629401b4",
   "metadata": {},
   "outputs": [
    {
     "data": {
      "text/plain": [
       "17"
      ]
     },
     "execution_count": 4,
     "metadata": {},
     "output_type": "execute_result"
    }
   ],
   "source": [
    "#This is a simple arithemtic experession to mutiply then add intergers\n",
    "(3*4)+5"
   ]
  },
  {
   "cell_type": "code",
   "execution_count": 7,
   "id": "31c90144-0162-4402-904b-0a3bbb6fc7ac",
   "metadata": {},
   "outputs": [
    {
     "data": {
      "text/plain": [
       "3.3333333333333335"
      ]
     },
     "execution_count": 7,
     "metadata": {},
     "output_type": "execute_result"
    }
   ],
   "source": [
    "#This will convert 200 minutes to hours by dividing by 60\n",
    "200/60"
   ]
  },
  {
   "cell_type": "markdown",
   "id": "bcc00ce3-0133-48f9-a081-e51fdf8eafc2",
   "metadata": {},
   "source": [
    "**Objectives:**\n",
    "- List popular langugages for Data Science\n",
    "- List some commonly used libraries\n",
    "- List some Data Science Tools"
   ]
  },
  {
   "cell_type": "markdown",
   "id": "0b14dc61-0e24-4938-ad28-485ce5196bc1",
   "metadata": {},
   "source": [
    "### Author\n",
    "Aneesh"
   ]
  },
  {
   "cell_type": "code",
   "execution_count": null,
   "id": "45eab7c3-9a11-47b8-a595-455bb85419c1",
   "metadata": {},
   "outputs": [],
   "source": []
  }
 ],
 "metadata": {
  "kernelspec": {
   "display_name": "Python 3 (ipykernel)",
   "language": "python",
   "name": "python3"
  },
  "language_info": {
   "codemirror_mode": {
    "name": "ipython",
    "version": 3
   },
   "file_extension": ".py",
   "mimetype": "text/x-python",
   "name": "python",
   "nbconvert_exporter": "python",
   "pygments_lexer": "ipython3",
   "version": "3.12.4"
  }
 },
 "nbformat": 4,
 "nbformat_minor": 5
}
